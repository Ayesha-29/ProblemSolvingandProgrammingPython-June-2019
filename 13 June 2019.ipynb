{
 "cells": [
  {
   "cell_type": "code",
   "execution_count": 4,
   "metadata": {},
   "outputs": [
    {
     "name": "stdout",
     "output_type": "stream",
     "text": [
      "1\n",
      "10\n",
      "9\n",
      "7\n",
      "5\n",
      "3\n",
      "1\n"
     ]
    }
   ],
   "source": [
    "#Function to print odd numbers in a given range\n",
    "s=int(input())\n",
    "n=int(input())\n",
    "\n",
    "def odd(s,n):\n",
    "    i=n\n",
    "    for i in range(n,s-1,-1):\n",
    "        if (i%2!=0):\n",
    "            print(i)\n",
    "    return \n",
    "odd(s,n)"
   ]
  },
  {
   "cell_type": "code",
   "execution_count": 8,
   "metadata": {},
   "outputs": [
    {
     "name": "stdout",
     "output_type": "stream",
     "text": [
      "1\n",
      "10\n",
      "55\n",
      "5.5\n"
     ]
    }
   ],
   "source": [
    "#Function to calculate the sum of  number \n",
    "s=int(input())\n",
    "n=int(input())\n",
    "def sum(s,e):\n",
    "    avg=0\n",
    "    count=0\n",
    "    sum=0\n",
    "    for i in range(s,e+1):\n",
    "        sum=sum+i\n",
    "        count=count+1\n",
    "    print(sum)\n",
    "    avg=sum/count\n",
    "    print(avg)\n",
    "    return\n",
    "sum(s,n)\n",
    "    "
   ]
  },
  {
   "cell_type": "code",
   "execution_count": 21,
   "metadata": {},
   "outputs": [
    {
     "name": "stdout",
     "output_type": "stream",
     "text": [
      "1920 1924 1928 1932 1936 1940 1944 1948 1952 1956 1960 1964 1968 1972 1976 1980 1984 1988 1992 1996 2000 2004 2008 2012 2016 "
     ]
    }
   ],
   "source": [
    "#FUnction to check a given year is leap year\n",
    "\n",
    "def isleapyear(i):\n",
    "        if(i%400==0 or (i%100!=0 and i %4==0)):\n",
    "            return True\n",
    "        return False\n",
    "def generate(start,end):\n",
    "    for i in range(start,end+1):\n",
    "        if isleapyear(i):\n",
    "            print (i,end=\" \")\n",
    "    return\n",
    "generate(1919,2016)"
   ]
  },
  {
   "cell_type": "code",
   "execution_count": 32,
   "metadata": {},
   "outputs": [
    {
     "data": {
      "text/plain": [
       "731"
      ]
     },
     "execution_count": 32,
     "metadata": {},
     "output_type": "execute_result"
    }
   ],
   "source": [
    "#Calculate number of days in a given time period using leap year logic\n",
    "#For every year in the given time perid ,if the year is \n",
    "def numOfDays(startyear,endyear):\n",
    "    sum=0\n",
    "    for year in range(startyear,endyear++1):\n",
    "        if isleapyear(year):\n",
    "            sum=sum+366\n",
    "        else:\n",
    "            sum=sum+365\n",
    "    return sum\n",
    "numOfDays(2000,2001)"
   ]
  },
  {
   "cell_type": "code",
   "execution_count": 46,
   "metadata": {},
   "outputs": [
    {
     "name": "stdout",
     "output_type": "stream",
     "text": [
      "17544\n",
      "11\n",
      "9624\n"
     ]
    }
   ],
   "source": [
    "#Function to calculate number of hours in a given period in the format\n",
    "#11,1975,03,1999)\n",
    "\n",
    "def numberOfHours(monthstart1,yearstart1,monthstart2,yearstart2):\n",
    "    n_years=yearstart2-yearstart1\n",
    "    hours=0\n",
    "    remove=monthstart1+monthstart2\n",
    "    for i in range(yearstart2,yearstart1-1,-1):\n",
    "        if isleapyear(i):\n",
    "            hours+=366*24\n",
    "        else:\n",
    "            hours+=365*24\n",
    "    print(hours)\n",
    "    print(remove)\n",
    "    print(hours-(remove*30*24))\n",
    "numberOfHours(5,2019,6,2020)"
   ]
  },
  {
   "cell_type": "code",
   "execution_count": 35,
   "metadata": {},
   "outputs": [
    {
     "name": "stdout",
     "output_type": "stream",
     "text": [
      "12\n",
      "3\n"
     ]
    }
   ],
   "source": [
    "#Function to calculate average of all factorials in a given range\n",
    "n=int(input())\n",
    "def factavg(n):\n",
    "    sum=0\n",
    "    count=0\n",
    "    for i in range(1,n):\n",
    "        if(n%i==0):\n",
    "            sum=sum+i\n",
    "            count=count+1\n",
    "    average=sum//count\n",
    "    print(average)\n",
    "    return\n",
    "factavg(n)"
   ]
  },
  {
   "cell_type": "code",
   "execution_count": 30,
   "metadata": {},
   "outputs": [
    {
     "name": "stdout",
     "output_type": "stream",
     "text": [
      "100\n",
      "102\n",
      "10\n",
      "10 * 100 = 1000\n",
      "10 * 101 = 1010\n",
      "10 * 102 = 1020\n"
     ]
    }
   ],
   "source": [
    "s=int(input())\n",
    "e=int(input())\n",
    "t=int(input())\n",
    "def table(s,e,t):\n",
    "    for i in range(s,e+1):\n",
    "        print(t,\"*\",i,\"=\",t*i)\n",
    "    return\n",
    "table(s,e,t)"
   ]
  },
  {
   "cell_type": "code",
   "execution_count": 57,
   "metadata": {},
   "outputs": [
    {
     "name": "stdout",
     "output_type": "stream",
     "text": [
      "100\n",
      "200\n"
     ]
    },
    {
     "data": {
      "text/plain": [
       "125"
      ]
     },
     "execution_count": 57,
     "metadata": {},
     "output_type": "execute_result"
    }
   ],
   "source": [
    "s=int(input())\n",
    "e=int(input())\n",
    "def cyclecount(s,e):\n",
    "    max=0\n",
    "    count=1\n",
    "    for i in range(s,e+1):\n",
    "        j=i\n",
    "        while(j!=1):\n",
    "            if(j%2==0):\n",
    "                j=j/2\n",
    "                count=count+1\n",
    "            else:\n",
    "                j=j*3+1\n",
    "                count=count+1\n",
    "            #print(count)\n",
    "        if(count>max):\n",
    "            max=count\n",
    "        count=1\n",
    "    return max\n",
    "cyclecount(s,e)"
   ]
  },
  {
   "cell_type": "code",
   "execution_count": null,
   "metadata": {},
   "outputs": [],
   "source": []
  }
 ],
 "metadata": {
  "kernelspec": {
   "display_name": "Python 3",
   "language": "python",
   "name": "python3"
  },
  "language_info": {
   "codemirror_mode": {
    "name": "ipython",
    "version": 3
   },
   "file_extension": ".py",
   "mimetype": "text/x-python",
   "name": "python",
   "nbconvert_exporter": "python",
   "pygments_lexer": "ipython3",
   "version": "3.7.3"
  }
 },
 "nbformat": 4,
 "nbformat_minor": 2
}
