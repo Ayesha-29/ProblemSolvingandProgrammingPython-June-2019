{
 "cells": [
  {
   "cell_type": "code",
   "execution_count": 13,
   "metadata": {},
   "outputs": [
    {
     "name": "stdout",
     "output_type": "stream",
     "text": [
      "Harideep already exist\n"
     ]
    }
   ],
   "source": [
    "#Function to add contact to contact text file\n",
    "from Packages import validators \n",
    "\n",
    "def addcontact(name,phone,email):\n",
    "    #store data as name,phone,email in the contacts file\n",
    "    filename='Datafiles/contacts.txt'\n",
    "    if not contactexist(name):\n",
    "        if phonenumbervalidator(phone) and emailvalidator(email):\n",
    "            with open(filename,'a')as f:\n",
    "                line=name+','+str(phone)+','+email +'\\n'\n",
    "                f.write(line)\n",
    "            print(name,'added to contacts')\n",
    "    else:\n",
    "        print(name,'already exist')\n",
    "    return \n",
    "addcontact(\"Harideep\",8886520096,\"harideep028@gmail.com\")   \n",
    "\n",
    "import re\n",
    "#Function to check if contact already exists\n",
    "def contactexist(name):\n",
    "    filename='Datafiles/contacts.txt'\n",
    "    with open(filename,'r') as f:\n",
    "        filedata=f.read()\n",
    "        pattern=name+','\n",
    "    return re.search(pattern,filedata)\n"
   ]
  },
  {
   "cell_type": "code",
   "execution_count": null,
   "metadata": {},
   "outputs": [],
   "source": []
  }
 ],
 "metadata": {
  "kernelspec": {
   "display_name": "Python 3",
   "language": "python",
   "name": "python3"
  },
  "language_info": {
   "codemirror_mode": {
    "name": "ipython",
    "version": 3
   },
   "file_extension": ".py",
   "mimetype": "text/x-python",
   "name": "python",
   "nbconvert_exporter": "python",
   "pygments_lexer": "ipython3",
   "version": "3.7.3"
  }
 },
 "nbformat": 4,
 "nbformat_minor": 2
}
