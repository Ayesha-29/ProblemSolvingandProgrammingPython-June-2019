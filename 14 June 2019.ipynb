{
 "cells": [
  {
   "cell_type": "markdown",
   "metadata": {},
   "source": [
    "# Problem Solving and programming in python Day-4\n",
    "\n",
    "\n",
    "- Day Objectives\n",
    "- Python Data Structures\n",
    "- Lists\n",
    "- Tuples\n",
    "- Dictionaries\n",
    "- Basic Problem set on Data Structures\n",
    "- Advanced Problem Set\n",
    "- Packages and Modules in Python"
   ]
  },
  {
   "cell_type": "markdown",
   "metadata": {},
   "source": [
    "## Python Data Structures\n",
    "\n",
    "**Lists**"
   ]
  },
  {
   "cell_type": "code",
   "execution_count": 39,
   "metadata": {},
   "outputs": [
    {
     "data": {
      "text/plain": [
       "264.5"
      ]
     },
     "execution_count": 39,
     "metadata": {},
     "output_type": "execute_result"
    }
   ],
   "source": [
    "li =[123, 978,234]\n",
    "li  #To access the entire list\n",
    "li[1] #to access second element with index in a list\n",
    "li[-2:]\n",
    "li[::-1] #to print in reverse order\n",
    "len(li) #Number of elements in list\n",
    "li[::2] ##accessing even index elements\n",
    "li[1::2] #Accessing odd index elements\n",
    "\n",
    "# List can be accessed ,manipulated in two different ways\n",
    "    #Direct referencing - Accessing through -[index]\n",
    "    #Indirect referencing - Accessing through functions\n",
    "\n",
    "#Adding an element to end of the list\n",
    "\n",
    "li.append(23)\n",
    "#Add elemend at particular index\n",
    "li.insert(2,456)\n",
    "li.sort() #sort elements in ascending order\n",
    "li.pop() #remove last element in the list\n",
    "l2=[122,23,245]\n",
    "l2.append(345)\n",
    "l2.insert(1,234)\n",
    "li.extend(l2) #Merge list 2 into list 1\n",
    "sum(li) #TO find total in list\n",
    "max(li) #TO find maximum element\n",
    "li\n",
    "#Avg of list elements\n",
    "sum(li)/len(li)\n",
    "\n",
    "#avg of all alternate elements even\n",
    "\n",
    "l3=li[::2]\n",
    "l3\n",
    "sum(l3)/len(l3)\n",
    "#avg of all alternate elements\n",
    "l4=li[1::2]\n",
    "sum(l4)/len(l4)"
   ]
  },
  {
   "cell_type": "code",
   "execution_count": 53,
   "metadata": {},
   "outputs": [
    {
     "data": {
      "text/plain": [
       "[34, 45, 76, 89, 345]"
      ]
     },
     "execution_count": 53,
     "metadata": {},
     "output_type": "execute_result"
    }
   ],
   "source": [
    "#Function to identify the second largest element in list\n",
    "\n",
    "    #sort the data and selcect the second in a unique list\n",
    "    #sort the data in reverse order,and select the second element\n",
    "    #Remove the max element and then get the max of the new \n",
    "    #\n",
    "l5=[34,76,89,345,45]\n",
    "def second(l5):\n",
    "    l5.sort()\n",
    "    return l5[-2]\n",
    "\n",
    "\n",
    "def genericlargest(l5,n):\n",
    "    l5.sort()\n",
    "    return l5[-n]\n",
    "second(l5)\n",
    "genericlargest(l5,2)\n",
    "l5"
   ]
  },
  {
   "cell_type": "code",
   "execution_count": 72,
   "metadata": {},
   "outputs": [
    {
     "data": {
      "text/plain": [
       "-1"
      ]
     },
     "execution_count": 72,
     "metadata": {},
     "output_type": "execute_result"
    }
   ],
   "source": [
    "# FUnction to search for data in list\n",
    "# Search For the key in the list and return True if element found else False\n",
    "\n",
    "def linearsearch(l5,key):\n",
    "    for i in range(0,len(l5)):\n",
    "        if l5[i]==key:\n",
    "            return True\n",
    "    return -1\n",
    "linearsearch(l5,75)\n",
    "\n",
    "def linearsearch2(l5,key):\n",
    "    for element in l5:\n",
    "        if element==key:\n",
    "            return l5.index(element)\n",
    "    return -1\n",
    "linearsearch2(l5,76)\n",
    "\n",
    "def linearsearch3(l5,key):\n",
    "    if key in l5:\n",
    "        return l5.index(key)\n",
    "    return -1\n",
    "linearsearch3(l5,75)"
   ]
  },
  {
   "cell_type": "code",
   "execution_count": 84,
   "metadata": {},
   "outputs": [
    {
     "data": {
      "text/plain": [
       "2"
      ]
     },
     "execution_count": 84,
     "metadata": {},
     "output_type": "execute_result"
    }
   ],
   "source": [
    "#Function to count the occurances of a character in a given string\n",
    "\n",
    "#\"harideep\", e->2\n",
    "\n",
    "\n",
    "s1=\"harideep\"\n",
    "\n",
    "def occurance(s1):\n",
    "    return s1.count('e')\n",
    "occurance(s1)\n",
    "\n",
    "def occurance1(s1,c):\n",
    "    count=0\n",
    "    for c1 in s1:\n",
    "        if c1==c:\n",
    "            count=count+1\n",
    "    return count\n",
    "occurance1(s1,'p')\n",
    "\n",
    "def countcharoccurances2(s1,c):\n",
    "    return s1.count(c)\n",
    "countcharoccurances2(\"abcabnmhj\",'ab')\n",
    "\n",
    "#without using function\n",
    "\n",
    "\n",
    "\n"
   ]
  },
  {
   "cell_type": "code",
   "execution_count": 89,
   "metadata": {},
   "outputs": [
    {
     "data": {
      "text/plain": [
       "1"
      ]
     },
     "execution_count": 89,
     "metadata": {},
     "output_type": "execute_result"
    }
   ],
   "source": [
    "\"asf\".find(\"s\",0)"
   ]
  },
  {
   "cell_type": "code",
   "execution_count": null,
   "metadata": {},
   "outputs": [],
   "source": [
    "\"asf\".find"
   ]
  },
  {
   "cell_type": "code",
   "execution_count": 104,
   "metadata": {},
   "outputs": [
    {
     "data": {
      "text/plain": [
       "2"
      ]
     },
     "execution_count": 104,
     "metadata": {},
     "output_type": "execute_result"
    }
   ],
   "source": [
    "def countcharoccurances2(s1,c):\n",
    "    start=0\n",
    "    count=0\n",
    "    for char in s1:\n",
    "        if s1.find(c,start)!=-1:\n",
    "            start=s1.find(c,start)+1\n",
    "            count+=1\n",
    "    return count\n",
    "countcharoccurances2(\"abcaaanmhj\",'aa')"
   ]
  },
  {
   "cell_type": "code",
   "execution_count": 107,
   "metadata": {},
   "outputs": [
    {
     "data": {
      "text/plain": [
       "[1, 2, 3, 4, 5]"
      ]
     },
     "execution_count": 107,
     "metadata": {},
     "output_type": "execute_result"
    }
   ],
   "source": [
    "\n",
    "s=\" 1 2 3 4 5\"\n",
    "l=s.split()\n",
    "n=[]\n",
    "for i in l:\n",
    "    n.append(int(i))\n",
    "n"
   ]
  },
  {
   "cell_type": "code",
   "execution_count": 108,
   "metadata": {},
   "outputs": [
    {
     "data": {
      "text/plain": [
       "5"
      ]
     },
     "execution_count": 108,
     "metadata": {},
     "output_type": "execute_result"
    }
   ],
   "source": [
    "abs(-5)"
   ]
  },
  {
   "cell_type": "code",
   "execution_count": null,
   "metadata": {},
   "outputs": [],
   "source": [
    " "
   ]
  }
 ],
 "metadata": {
  "kernelspec": {
   "display_name": "Python 3",
   "language": "python",
   "name": "python3"
  },
  "language_info": {
   "codemirror_mode": {
    "name": "ipython",
    "version": 3
   },
   "file_extension": ".py",
   "mimetype": "text/x-python",
   "name": "python",
   "nbconvert_exporter": "python",
   "pygments_lexer": "ipython3",
   "version": "3.7.3"
  }
 },
 "nbformat": 4,
 "nbformat_minor": 2
}
