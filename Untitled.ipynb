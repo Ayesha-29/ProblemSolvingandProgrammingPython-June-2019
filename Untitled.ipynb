{
 "cells": [
  {
   "cell_type": "code",
   "execution_count": 4,
   "metadata": {},
   "outputs": [
    {
     "name": "stdout",
     "output_type": "stream",
     "text": [
      "this is\n",
      "sample\n",
      "file\n",
      "for reading\n",
      "with\n",
      "python\n"
     ]
    }
   ],
   "source": [
    "def readDataFromFile(file_path):\n",
    "    with open(file_path,\"r\") as fr:\n",
    "        data=fr.read()\n",
    "    return data\n",
    "file_path=\"DataFiles/sample.txt\"\n",
    "print(readDataFromFile(file_path))"
   ]
  },
  {
   "cell_type": "code",
   "execution_count": 11,
   "metadata": {},
   "outputs": [
    {
     "name": "stdout",
     "output_type": "stream",
     "text": [
      "hari\n",
      "deep\n",
      "ramesh\n"
     ]
    }
   ],
   "source": [
    "s=\"hari\\ndeep\\nramesh\"\n",
    "s\n",
    "print(s)"
   ]
  },
  {
   "cell_type": "code",
   "execution_count": 9,
   "metadata": {},
   "outputs": [
    {
     "name": "stdout",
     "output_type": "stream",
     "text": [
      "1.this is\n",
      "2.sample\n",
      "3.file\n",
      "4.for reading\n",
      "5.with\n",
      "6.python"
     ]
    }
   ],
   "source": [
    "def readDataFromFileWithLineNumbers(file_path):\n",
    "    with open(file_path,\"r\") as fr:\n",
    "        lines=fr.readlines()\n",
    "        lineno=1\n",
    "        for line in lines:\n",
    "            print(lineno,line,sep=\".\",end=\"\")\n",
    "            lineno+=1\n",
    "    return \n",
    "file_path=\"DataFiles/sample.txt\"\n",
    "readDataFromFileWithLineNumbers(file_path)"
   ]
  },
  {
   "cell_type": "code",
   "execution_count": 20,
   "metadata": {},
   "outputs": [
    {
     "name": "stdout",
     "output_type": "stream",
     "text": [
      "contact saved\n"
     ]
    }
   ],
   "source": [
    "def addContact(name,phone):\n",
    "    data=readDataFromFile(\"DataFiles/contacts.txt\")\n",
    "    if data.find(name)>-1:\n",
    "        print(\"Already existed\")\n",
    "    else:\n",
    "        with open(\"DataFiles/contacts.txt\",\"a\") as fa:\n",
    "            fa.write(name+\",\"+str(phone)+\"\\n\")\n",
    "        print(\"contact saved\")\n",
    "        return \n",
    "addContact(\"mahesh\",8886520096)"
   ]
  },
  {
   "cell_type": "code",
   "execution_count": 29,
   "metadata": {},
   "outputs": [
    {
     "name": "stdout",
     "output_type": "stream",
     "text": [
      "Not Found\n"
     ]
    }
   ],
   "source": [
    "def searchContact(name):\n",
    "    data=readDataFromFile(\"DataFiles/contacts.txt\")\n",
    "    for line in data.split(\"\\n\"):\n",
    "        if data.find(name)>-1:\n",
    "            n,contact=line.split(\",\")\n",
    "            if n==name:\n",
    "                print(contact)\n",
    "                return\n",
    "    else:\n",
    "            print(\"Not Found\")\n",
    "searchContact(\"ayyappa\")           "
   ]
  }
 ],
 "metadata": {
  "kernelspec": {
   "display_name": "Python 3",
   "language": "python",
   "name": "python3"
  },
  "language_info": {
   "codemirror_mode": {
    "name": "ipython",
    "version": 3
   },
   "file_extension": ".py",
   "mimetype": "text/x-python",
   "name": "python",
   "nbconvert_exporter": "python",
   "pygments_lexer": "ipython3",
   "version": "3.7.3"
  }
 },
 "nbformat": 4,
 "nbformat_minor": 2
}
