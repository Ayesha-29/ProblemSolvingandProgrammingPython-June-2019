{
 "cells": [
  {
   "cell_type": "code",
   "execution_count": 6,
   "metadata": {},
   "outputs": [
    {
     "name": "stdout",
     "output_type": "stream",
     "text": [
      "1234ghj\n",
      "0 : 0\n",
      "1 : 1\n",
      "2 : 1\n",
      "3 : 1\n",
      "4 : 1\n",
      "5 : 0\n",
      "6 : 0\n",
      "7 : 0\n",
      "8 : 0\n",
      "9 : 0\n"
     ]
    }
   ],
   "source": [
    "n=input()\n",
    "for i in range(0,10):\n",
    "    \n",
    "    print(i,':',n.count(str(i)))"
   ]
  },
  {
   "cell_type": "code",
   "execution_count": 1,
   "metadata": {},
   "outputs": [],
   "source": [
    "#Marks analysis Application\n",
    "    #Generate the marks file for n students\n",
    "    #Input:marks text file - Each line contains marks of one student\n",
    "#Generate a report with the following information \n",
    "     #Class Average\n",
    "     # % of students passed\n",
    "    # % of failed students\n",
    "    # % of students with distinction\n",
    "    \n",
    "    \n",
    "#Function to generate marks data for n students\n",
    "from random import randint\n",
    "def generatemarks(n,lb,ub):\n",
    "    with open('DataFiles/marks.txt','w') as f:\n",
    "        for i in range(n):\n",
    "            r=randint(lb,ub)\n",
    "            f.write(str(r)+'\\n')\n",
    "    return\n",
    "generatemarks(10,0,100)"
   ]
  },
  {
   "cell_type": "code",
   "execution_count": null,
   "metadata": {},
   "outputs": [],
   "source": []
  },
  {
   "cell_type": "code",
   "execution_count": 11,
   "metadata": {},
   "outputs": [
    {
     "data": {
      "text/plain": [
       "50.0"
      ]
     },
     "execution_count": 11,
     "metadata": {},
     "output_type": "execute_result"
    }
   ],
   "source": [
    "#line count program\n",
    "# Function for number of students passed\n",
    "\n",
    "\n",
    "def passedstudents():\n",
    "    passed=0\n",
    "    with open('DataFiles/marks.txt','r') as f:\n",
    "        while True:\n",
    "            filedata=f.readline()\n",
    "            if filedata>='35':\n",
    "                passed=passed+1\n",
    "            if not filedata:\n",
    "                break\n",
    "    return passed\n",
    "passed_count=passedstudents()\n",
    "\n",
    "\n",
    "def linecounter():\n",
    "    linecount=0\n",
    "    with open('DataFiles/marks.txt','r') as f:\n",
    "        filedata=f.read()\n",
    "        for char in filedata:\n",
    "            if char=='\\n':\n",
    "                linecount=linecount+1\n",
    "                \n",
    "        return linecount\n",
    "#linecounter('')\n",
    "\n",
    "percentage=passedstudents()/linecounter()*100\n",
    "percentage"
   ]
  },
  {
   "cell_type": "code",
   "execution_count": 12,
   "metadata": {},
   "outputs": [],
   "source": [
    "def passedPercentage():\n",
    "    return passedstudents()/linecounter()*100"
   ]
  },
  {
   "cell_type": "code",
   "execution_count": null,
   "metadata": {},
   "outputs": [],
   "source": []
  },
  {
   "cell_type": "code",
   "execution_count": 4,
   "metadata": {},
   "outputs": [
    {
     "name": "stdout",
     "output_type": "stream",
     "text": [
      "0 1 1 1 0 0 0 0 0 0 "
     ]
    }
   ],
   "source": [
    "#Frequency of digits\n",
    "def uniquedata(allnumbers):\n",
    "    unique=[]\n",
    "    for n in allnumbers:\n",
    "        if n not in unique:\n",
    "            unique.append(n)\n",
    "    return unique\n",
    "\n",
    "def digitfrequency1(s):\n",
    "    allnumbers=[]\n",
    "    for i in s:\n",
    "        if i.isdigit():\n",
    "            allnumbers.append(i)\n",
    "    unique=uniquedata(allnumbers)\n",
    "    for i in range(0,10):\n",
    "        if str(i) not in unique:\n",
    "            print(0,end=' ')\n",
    "        else:\n",
    "            count=allnumbers.count(str(i))\n",
    "            print(count,end=' ')\n",
    "            \n",
    "digitfrequency1(\"hari123\")\n"
   ]
  },
  {
   "cell_type": "code",
   "execution_count": 14,
   "metadata": {},
   "outputs": [
    {
     "data": {
      "text/plain": [
       "50.0"
      ]
     },
     "execution_count": 14,
     "metadata": {},
     "output_type": "execute_result"
    }
   ],
   "source": [
    "def FailedPercentage():\n",
    "    failed=abs(passedPercentage()-100)\n",
    "    return failed\n",
    "FailedPercentage()"
   ]
  },
  {
   "cell_type": "code",
   "execution_count": 15,
   "metadata": {},
   "outputs": [
    {
     "name": "stdout",
     "output_type": "stream",
     "text": [
      "16\n",
      "73\n",
      "25\n",
      "34\n",
      "76\n",
      "15\n",
      "80\n",
      "42\n",
      "26\n",
      "52\n",
      "\n"
     ]
    }
   ],
   "source": [
    "def listofmarks():\n",
    "    with open(\"DataFiles/marks.txt\",'r') as fr:\n",
    "        data=fr.read()\n",
    "    return data\n",
    "print(listofmarks())"
   ]
  },
  {
   "cell_type": "code",
   "execution_count": 16,
   "metadata": {},
   "outputs": [
    {
     "name": "stdout",
     "output_type": "stream",
     "text": [
      "2\n"
     ]
    },
    {
     "data": {
      "text/plain": [
       "20.0"
      ]
     },
     "execution_count": 16,
     "metadata": {},
     "output_type": "execute_result"
    }
   ],
   "source": [
    "def Dictintion():\n",
    "    c=0\n",
    "    s=0\n",
    "    with open(\"DataFiles/marks.txt\",'r') as fr:\n",
    "        for i in fr:\n",
    "            if (int(i)>=75):\n",
    "                c+=1\n",
    "        print(c)\n",
    "        return c/linecounter()*100\n",
    "Dictintion()"
   ]
  },
  {
   "cell_type": "code",
   "execution_count": 17,
   "metadata": {},
   "outputs": [
    {
     "data": {
      "text/plain": [
       "43.9"
      ]
     },
     "execution_count": 17,
     "metadata": {},
     "output_type": "execute_result"
    }
   ],
   "source": [
    "def classaverage():\n",
    "    sum=0\n",
    "    with open(\"DataFiles/marks.txt\",'r') as fr:\n",
    "        for i in fr:\n",
    "            sum=sum+int(i)\n",
    "    return sum/linecounter()\n",
    "classaverage()"
   ]
  },
  {
   "cell_type": "code",
   "execution_count": 23,
   "metadata": {},
   "outputs": [
    {
     "data": {
      "text/plain": [
       "1"
      ]
     },
     "execution_count": 23,
     "metadata": {},
     "output_type": "execute_result"
    }
   ],
   "source": [
    "def frequencyofhighestmarks():\n",
    "    l=[]\n",
    "    with open(\"DataFiles/marks.txt\",'r') as fr:\n",
    "        for i in fr:\n",
    "            l.append(int(i))\n",
    "    z=max(l)\n",
    "    h=l.count(z)\n",
    "    return h\n",
    "frequencyofhighestmarks()   "
   ]
  },
  {
   "cell_type": "code",
   "execution_count": 27,
   "metadata": {},
   "outputs": [
    {
     "name": "stdout",
     "output_type": "stream",
     "text": [
      "1-Passed %\n",
      "2-Failed %\n",
      "3-listofmarks\n",
      "4.Class Average\n",
      "5.Frequency of highest marks\n",
      "6.Frequency of lowestmarks\n",
      "7.Exit\n",
      "1\n",
      "50.0\n",
      "1-Passed %\n",
      "2-Failed %\n",
      "3-listofmarks\n",
      "4.Class Average\n",
      "5.Frequency of highest marks\n",
      "6.Frequency of lowestmarks\n",
      "7.Exit\n",
      "7\n"
     ]
    }
   ],
   "source": [
    "while True:\n",
    "    print(\"1-Passed %\\n2-Failed %\\n3-listofmarks\\n4.Class Average\\n5.Frequency of highest marks\\n6.Frequency of lowestmarks\\n7.Exit\")\n",
    "    choice=int(input())\n",
    "    if choice==1:\n",
    "        print(passedPercentage())\n",
    "    if choice==2:\n",
    "        print(FailedPercentage())\n",
    "    if choice==3:\n",
    "        print(listofmarks())\n",
    "    if choice==4:\n",
    "        print(classaverage())\n",
    "    if choice==5:\n",
    "        print(frequencyofhighestmarks())\n",
    "    if choice==6: \n",
    "        print(frequencyoflowestmarks())\n",
    "    if choice==7:\n",
    "        break"
   ]
  },
  {
   "cell_type": "code",
   "execution_count": 30,
   "metadata": {},
   "outputs": [
    {
     "name": "stdout",
     "output_type": "stream",
     "text": [
      "15\n"
     ]
    },
    {
     "data": {
      "text/plain": [
       "2"
      ]
     },
     "execution_count": 30,
     "metadata": {},
     "output_type": "execute_result"
    }
   ],
   "source": [
    "def frequencyoflowestmarks():\n",
    "    l=[]\n",
    "    with open(\"DataFiles/marks.txt\",'r') as fr:\n",
    "        for i in fr:\n",
    "            l.append(int(i))\n",
    "    z=min(l)\n",
    "    print(z)\n",
    "    h=l.count(z)\n",
    "    return h\n",
    "frequencyoflowestmarks()   "
   ]
  },
  {
   "cell_type": "code",
   "execution_count": null,
   "metadata": {},
   "outputs": [],
   "source": []
  }
 ],
 "metadata": {
  "kernelspec": {
   "display_name": "Python 3",
   "language": "python",
   "name": "python3"
  },
  "language_info": {
   "codemirror_mode": {
    "name": "ipython",
    "version": 3
   },
   "file_extension": ".py",
   "mimetype": "text/x-python",
   "name": "python",
   "nbconvert_exporter": "python",
   "pygments_lexer": "ipython3",
   "version": "3.7.3"
  }
 },
 "nbformat": 4,
 "nbformat_minor": 2
}
