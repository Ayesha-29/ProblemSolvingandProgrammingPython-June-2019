{
 "cells": [
  {
   "cell_type": "markdown",
   "metadata": {},
   "source": [
    "# Day Objectives:\n",
    "- Maps\n",
    "- Lambda\n",
    "- Filter\n",
    "- Use cases - File/Data Encryption"
   ]
  },
  {
   "cell_type": "markdown",
   "metadata": {},
   "source": [
    "# Map\n",
    "\n",
    "Mapping - Entity with a function\n",
    "\n",
    "f:x^2+3*x+9\n",
    "[1,10]\n",
    "\n",
    "f(x)\n",
    "\n",
    "f(1)-->1+3+9===>13\n",
    "f(2)-->4+6+9===>19\n",
    "\n",
    "y=f(x)\n",
    "\n",
    "x            y\n",
    "\n",
    "1           13\n",
    "2           19\n",
    "3\n",
    "4\n",
    "5\n",
    "6\n",
    "7\n",
    "8\n",
    "9\n",
    "\n",
    "map(function,Iterable)\n"
   ]
  },
  {
   "cell_type": "code",
   "execution_count": 28,
   "metadata": {},
   "outputs": [
    {
     "data": {
      "text/plain": [
       "8"
      ]
     },
     "execution_count": 28,
     "metadata": {},
     "output_type": "execute_result"
    }
   ],
   "source": [
    "# def power(a,n):\n",
    "    #return a**n\n",
    "    #     s=1\n",
    "#     for i in range(0,n):\n",
    "#         s*=a\n",
    "#     return s\n",
    "\n",
    "def recursivepower(a,n):\n",
    "    if n==0:\n",
    "        return 1\n",
    "    else:\n",
    "        return a*recursivepower(a,n-1)\n",
    "recursivepower(2,3)"
   ]
  },
  {
   "cell_type": "code",
   "execution_count": 71,
   "metadata": {},
   "outputs": [
    {
     "data": {
      "text/plain": [
       "[1, 2]"
      ]
     },
     "execution_count": 71,
     "metadata": {},
     "output_type": "execute_result"
    }
   ],
   "source": [
    "def cube(n):\n",
    "    return n**3\n",
    "l=[1,2,3,4,5,6]\n",
    "\n",
    "z=[3,5,7]\n",
    "set(map(cube,l))\n",
    "tuple(map(float,z))\n",
    "\n",
    "z1=['1','2']\n",
    "[int(i) for i in z1]"
   ]
  },
  {
   "cell_type": "markdown",
   "metadata": {},
   "source": [
    "# Filter\n",
    "\n",
    "- used to check boolean values\n"
   ]
  },
  {
   "cell_type": "code",
   "execution_count": 44,
   "metadata": {},
   "outputs": [
    {
     "data": {
      "text/plain": [
       "[1, 2, 3, 4, 4]"
      ]
     },
     "execution_count": 44,
     "metadata": {},
     "output_type": "execute_result"
    }
   ],
   "source": [
    "l=[1,2,3,4,'a','b','c',4]\n",
    "def isDigit(c):\n",
    "    c=str(c)\n",
    "    if c.isdigit():\n",
    "        return True\n",
    "    return False\n",
    "isDigit('a')\n",
    "\n",
    "\n",
    "\n",
    "\n",
    "list(filter(isDigit,l))"
   ]
  },
  {
   "cell_type": "code",
   "execution_count": 63,
   "metadata": {},
   "outputs": [
    {
     "data": {
      "text/plain": [
       "[11, 13, 17, 19]"
      ]
     },
     "execution_count": 63,
     "metadata": {},
     "output_type": "execute_result"
    }
   ],
   "source": [
    "#Filter to identify all primes in a range\n",
    "\n",
    "\n",
    "def checkprime(n):\n",
    "    flag=0\n",
    "    for i in range(1,n+1):\n",
    "        if(n%i==0):\n",
    "            flag=flag+1\n",
    "    if flag==2:\n",
    "        return True\n",
    "    else:\n",
    "        return False\n",
    "\n",
    "list(filter(checkprime,[i for i in range(10,20)]))"
   ]
  },
  {
   "cell_type": "code",
   "execution_count": 66,
   "metadata": {},
   "outputs": [
    {
     "data": {
      "text/plain": [
       "[11, 13, 17, 19]"
      ]
     },
     "execution_count": 66,
     "metadata": {},
     "output_type": "execute_result"
    }
   ],
   "source": [
    "def checkprime(n):\n",
    "    flag=0\n",
    "    for i in range(1,n+1):\n",
    "        if(n%i==0):\n",
    "            flag=flag+1\n",
    "    if flag==2:\n",
    "        return True\n",
    "    else:\n",
    "        return False\n",
    "\n",
    "z=list(filter(checkprime,range(10,20)))\n",
    "z2="
   ]
  },
  {
   "cell_type": "code",
   "execution_count": 69,
   "metadata": {},
   "outputs": [
    {
     "data": {
      "text/plain": [
       "[11, 13, 17, 19]"
      ]
     },
     "execution_count": 69,
     "metadata": {},
     "output_type": "execute_result"
    }
   ],
   "source": [
    "#By using list comprehension\n",
    "def checkprime(n):\n",
    "    flag=0\n",
    "    for i in range(1,n+1):\n",
    "        if(n%i==0):\n",
    "            flag=flag+1\n",
    "    if flag==2:\n",
    "        return True\n",
    "    else:\n",
    "        return False\n",
    "    \n",
    "z=[i for i in range (10,20) if checkprime(i)]\n",
    "z"
   ]
  },
  {
   "cell_type": "markdown",
   "metadata": {},
   "source": [
    "# Map fails because it doesn't apply for checking condition"
   ]
  },
  {
   "cell_type": "code",
   "execution_count": null,
   "metadata": {},
   "outputs": [],
   "source": []
  },
  {
   "cell_type": "markdown",
   "metadata": {},
   "source": [
    "# Lambda\n",
    "\n",
    "- Ananymous Functions \n",
    "- can be embedded into List Comprehension,maps,Filters\n"
   ]
  },
  {
   "cell_type": "code",
   "execution_count": 72,
   "metadata": {},
   "outputs": [
    {
     "name": "stdout",
     "output_type": "stream",
     "text": [
      "['False', 'None', 'True', 'and', 'as', 'assert', 'async', 'await', 'break', 'class', 'continue', 'def', 'del', 'elif', 'else', 'except', 'finally', 'for', 'from', 'global', 'if', 'import', 'in', 'is', 'lambda', 'nonlocal', 'not', 'or', 'pass', 'raise', 'return', 'try', 'while', 'with', 'yield']\n"
     ]
    }
   ],
   "source": [
    "import keyword\n",
    "print(keyword.kwlist)"
   ]
  },
  {
   "cell_type": "code",
   "execution_count": 80,
   "metadata": {},
   "outputs": [
    {
     "data": {
      "text/plain": [
       "[1, 8, 27]"
      ]
     },
     "execution_count": 80,
     "metadata": {},
     "output_type": "execute_result"
    }
   ],
   "source": [
    "\n",
    "\n",
    "l5=[1,2,3]\n",
    "a=lambda x: x**3\n",
    "list(map(lambda x:x**3,l5))"
   ]
  },
  {
   "cell_type": "code",
   "execution_count": 89,
   "metadata": {},
   "outputs": [
    {
     "name": "stdout",
     "output_type": "stream",
     "text": [
      "[20, 8, 1, 6, 12, 14, 13, 15, 16, 17]\n"
     ]
    },
    {
     "data": {
      "text/plain": [
       "[8, 1, 6]"
      ]
     },
     "execution_count": 89,
     "metadata": {},
     "output_type": "execute_result"
    }
   ],
   "source": [
    "import random\n",
    "internal1=[random.randint(0,25)for i in range(10)]\n",
    "internal2=[random.randint(0,25)for i in range(0,25)]\n",
    "averageinternal=list(map(lambda x,y:(x+y)//2,internal1,internal2))\n",
    "print(averageinternal)\n",
    "failedstudents=list(filter(lambda x: x<10,averageinternal))\n",
    "failedstudents"
   ]
  },
  {
   "cell_type": "markdown",
   "metadata": {},
   "source": [
    "# Applying Functional Programming to the Marks Analysis Application"
   ]
  },
  {
   "cell_type": "code",
   "execution_count": 91,
   "metadata": {},
   "outputs": [],
   "source": [
    "#Generate marks data\n",
    "from random import randint\n",
    "\n",
    "def generatemarks(n,lb,ub):\n",
    "    filename='DataFiles/marks.txt'\n",
    "    with open(filename,'w')as f:\n",
    "        for i in range(n):\n",
    "            marks=randint(lb,ub)\n",
    "            f.write(str(marks)+'\\n')\n",
    "    return       \n",
    "            \n",
    "generatemarks(300,0,100)"
   ]
  },
  {
   "cell_type": "code",
   "execution_count": 121,
   "metadata": {},
   "outputs": [
    {
     "name": "stdout",
     "output_type": "stream",
     "text": [
      "1.Passed Percentage\n",
      "2.Failed Percentage\n",
      "3.Distinction\n",
      "4.Class Average\n",
      "5.Highest Frequency\n",
      "6.Lowest Frequency\n",
      "1\n",
      "63.0\n",
      "1.Passed Percentage\n",
      "2.Failed Percentage\n",
      "3.Distinction\n",
      "4.Class Average\n",
      "5.Highest Frequency\n",
      "6.Lowest Frequency\n",
      "2\n",
      "36.0\n",
      "1.Passed Percentage\n",
      "2.Failed Percentage\n",
      "3.Distinction\n",
      "4.Class Average\n",
      "5.Highest Frequency\n",
      "6.Lowest Frequency\n",
      "3\n",
      "30.333333333333336\n",
      "1.Passed Percentage\n",
      "2.Failed Percentage\n",
      "3.Distinction\n",
      "4.Class Average\n",
      "5.Highest Frequency\n",
      "6.Lowest Frequency\n",
      "5\n",
      "5\n",
      "1.Passed Percentage\n",
      "2.Failed Percentage\n",
      "3.Distinction\n",
      "4.Class Average\n",
      "5.Highest Frequency\n",
      "6.Lowest Frequency\n",
      "6\n",
      "3\n",
      "1.Passed Percentage\n",
      "2.Failed Percentage\n",
      "3.Distinction\n",
      "4.Class Average\n",
      "5.Highest Frequency\n",
      "6.Lowest Frequency\n",
      "7\n"
     ]
    },
    {
     "data": {
      "text/plain": [
       "36.0"
      ]
     },
     "execution_count": 121,
     "metadata": {},
     "output_type": "execute_result"
    }
   ],
   "source": [
    "# Marks analysis class average,%passed and %failed and distinction,frequency of highest and lowest mark\n",
    "import re\n",
    "filepath='DataFiles/marks.txt'\n",
    "def readmarkslist(filepath):\n",
    "    with open(filepath,'r')as f:\n",
    "        filedata=f.read().split()\n",
    "    return list(map(int,filedata))\n",
    "\n",
    "def classaverage(filepath):\n",
    "    with open(filepath,'r')as f:\n",
    "        #filedata=f.read().split()\n",
    "        #markslist=re.split('\\n',filedata)\n",
    "        #filedata=list(map(int,filedata))\n",
    "        #average=sum(filedata)/len(filedata)\n",
    "        markslist=readmarkslist(filepath)\n",
    "    return sum(markslist)//len(markslist)\n",
    "\n",
    "\n",
    "\n",
    "def percentagefailed(filepath):\n",
    "    marklist=readmarkslist(filepath)\n",
    "    failedcount=len(list(filter(lambda marks: marks < 40,marklist)))\n",
    "    return (failedcount/len(marklist))*100\n",
    "\n",
    "def percentagepassed(filepath):\n",
    "    marklist=readmarkslist(filepath)\n",
    "    passedcount=len(list(filter(lambda marks:marks>40,marklist)))\n",
    "    return (passedcount/len(marklist))*100\n",
    "\n",
    "def distinction(filepath):\n",
    "    marklist=readmarkslist(filepath)\n",
    "    Distinction=len(list(filter(lambda marks:marks>70,marklist)))\n",
    "    return (Distinction/len(marklist))*100\n",
    "\n",
    "def highestfrequency(filepath):\n",
    "    marklist=readmarkslist(filepath)\n",
    "    m=max(marklist)\n",
    "    return marklist.count(m)\n",
    "\n",
    "\n",
    "def lowestfrequency(filepath):\n",
    "    marklist=readmarkslist(filepath)\n",
    "    m=min(marklist)\n",
    "    return marklist.count(m)\n",
    "\n",
    "\n",
    "while True:\n",
    "    print(\"1.Passed Percentage\\n2.Failed Percentage\\n3.Distinction\\n4.Class Average\\n5.Highest Frequency\\n6.Lowest Frequency\")\n",
    "    choice=int(input())\n",
    "    \n",
    "    if choice==1:\n",
    "        print(percentagepassed(filepath))\n",
    "    \n",
    "    elif choice==2:\n",
    "        print(percentagefailed(filepath))\n",
    "        \n",
    "    elif choice==3:\n",
    "        print(distinction(filepath))\n",
    "        \n",
    "    elif choice==4:\n",
    "        print(classaverage(filepath))\n",
    "    \n",
    "    elif choice==5:\n",
    "        print(highestfrequency(filepath))\n",
    "     \n",
    "    elif choice==6:\n",
    "        print(lowestfrequency(filepath))\n",
    "        \n",
    "    else:\n",
    "        break\n",
    "percentagefailed(filepath)\n",
    "    "
   ]
  },
  {
   "cell_type": "code",
   "execution_count": null,
   "metadata": {},
   "outputs": [],
   "source": []
  },
  {
   "cell_type": "markdown",
   "metadata": {},
   "source": [
    "## Data Encryption\n",
    "\n",
    "Key - Mapping of charater with replace another character\n",
    "\n",
    "- 0 -> 4\n",
    "- 1 -> 5\n",
    "- 2 -> 6\n",
    "- 3 -> 7\n",
    "- 4 -> 8\n",
    "- 5 -> 9\n",
    "- 6 -> 0\n",
    "- 7 -> 1\n",
    "- 8 -> 2\n",
    "- 9 -> 3\n"
   ]
  },
  {
   "cell_type": "code",
   "execution_count": 108,
   "metadata": {},
   "outputs": [],
   "source": [
    "# Function to generate a key for encryption\n",
    "\n",
    "keypath='DataFiles/key.txt'\n",
    "\n",
    "def generatekey(keypath):\n",
    "    with open(keypath,'w')as f:\n",
    "        for i in range(10):\n",
    "            if i<6:\n",
    "                f.write(str(i)+' '+str(i+4)+'\\n')\n",
    "            else:\n",
    "                f.write(str(i)+' '+str(i-6)+'\\n')\n",
    "    return            \n",
    "generatekey(keypath)"
   ]
  },
  {
   "cell_type": "code",
   "execution_count": 10,
   "metadata": {},
   "outputs": [],
   "source": [
    "#FUnction to encrypt a data file\n",
    "keyfile='DataFiles/key.txt'\n",
    "\n",
    "def dictionarykeyfile(keyfile):\n",
    "    key={}\n",
    "    with open(keyfile,'r')as f:\n",
    "        for line in f:\n",
    "            line=line.split()\n",
    "            key[line[0]]=line[1]\n",
    "    return key\n",
    "\n",
    "#dictionarykeyfile(keyfile)\n",
    "def encryptmarksdata(datafile,keyfile):\n",
    "    #Construct a dictionary for keydata\n",
    "    key=dictionarykeyfile(keyfile)\n",
    "    with open(datafile,'r') as f:\n",
    "        filedata=f.read().split('\\n')\n",
    "    with open('DataFiles/encryptedmarks.txt','w') as f:\n",
    "        for mark in filedata:\n",
    "            line=''\n",
    "            for n in mark:\n",
    "                line+=key[n]\n",
    "            f.write(line+'\\n')\n",
    "    return\n",
    "datafile='DataFiles/marks.txt'\n",
    "\n",
    "\n",
    "def decryptedmarksdata(datafile,keyfile):\n",
    "    key=dictionarykeyfile(keyfile)\n",
    "    newkey={}\n",
    "    for key,value in key.items():\n",
    "        newkey[value]=key\n",
    "    with open('DataFiles/encryptedmarks.txt','r')as f:\n",
    "        encrypteddata=f.read().split('\\n')\n",
    "        \n",
    "    with open('DataFiles/decryptedmarks.txt','w') as f:\n",
    "        for encryptedmark in encrypteddata:\n",
    "            line = ''\n",
    "            for n in encryptedmark:\n",
    "                line +=newkey[n]\n",
    "            f.write(line+'\\n')\n",
    "datafile=\"DataFiles/encryptedmarks.txt\"\n",
    "decryptedmarksdata(datafile,keyfile)\n",
    "\n"
   ]
  },
  {
   "cell_type": "code",
   "execution_count": null,
   "metadata": {},
   "outputs": [],
   "source": []
  }
 ],
 "metadata": {
  "kernelspec": {
   "display_name": "Python 3",
   "language": "python",
   "name": "python3"
  },
  "language_info": {
   "codemirror_mode": {
    "name": "ipython",
    "version": 3
   },
   "file_extension": ".py",
   "mimetype": "text/x-python",
   "name": "python",
   "nbconvert_exporter": "python",
   "pygments_lexer": "ipython3",
   "version": "3.7.3"
  }
 },
 "nbformat": 4,
 "nbformat_minor": 2
}
