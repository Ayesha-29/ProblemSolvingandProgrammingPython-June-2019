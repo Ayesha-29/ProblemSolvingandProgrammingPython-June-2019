{
 "cells": [
  {
   "cell_type": "markdown",
   "metadata": {},
   "source": [
    "# Day Objectives\n",
    "- String Slicing\n",
    "- Functions in python\n",
    "- Basic Problems related to conditional statements using functions\n",
    "- Iteration in Python\n"
   ]
  },
  {
   "cell_type": "markdown",
   "metadata": {},
   "source": [
    "## String Slicing"
   ]
  },
  {
   "cell_type": "code",
   "execution_count": 39,
   "metadata": {},
   "outputs": [
    {
     "data": {
      "text/plain": [
       "'peia'"
      ]
     },
     "execution_count": 39,
     "metadata": {},
     "output_type": "execute_result"
    }
   ],
   "source": [
    "s1=\"harideep\"\n",
    "s1[0] #Accessing the first character\n",
    "s1[-1] #accessing the last character\n",
    "s1  #Accessing the whole string\n",
    "s1[len(s1)-1] ##accessing the last character\n",
    "s1[-2] #accessing the penultimate character of a string\n",
    "s1[0:2] #Accessing first two characters\n",
    "s1[-2:] #Accesing last two characters in a string\n",
    "s1[-1::-1] #Reverse of a string\n",
    "s1[-1:-3:-1] #Accessing last two characters in reverse order\n",
    "\n",
    "s1[len(s1)//2:len(s1)//2-2:-1]#Reverse the middle two characters in a even length string\n",
    "\n",
    "s1[::2]#Accessing alternate characters in a string\n",
    "s1[::-2]#Accessing alternnate characters in reverse order"
   ]
  },
  {
   "cell_type": "markdown",
   "metadata": {},
   "source": [
    "## Functions in python"
   ]
  },
  {
   "cell_type": "code",
   "execution_count": 42,
   "metadata": {},
   "outputs": [
    {
     "name": "stdout",
     "output_type": "stream",
     "text": [
      "harideep\n"
     ]
    },
    {
     "data": {
      "text/plain": [
       "'peedirah'"
      ]
     },
     "execution_count": 42,
     "metadata": {},
     "output_type": "execute_result"
    }
   ],
   "source": [
    "#Function to reverse a string\n",
    "def reverseString(s):\n",
    "    return s[::-1]\n",
    "s=input()\n",
    "reverseString(s)"
   ]
  },
  {
   "cell_type": "code",
   "execution_count": 44,
   "metadata": {},
   "outputs": [
    {
     "name": "stdout",
     "output_type": "stream",
     "text": [
      "madam\n"
     ]
    },
    {
     "data": {
      "text/plain": [
       "True"
      ]
     },
     "execution_count": 44,
     "metadata": {},
     "output_type": "execute_result"
    }
   ],
   "source": [
    "#Function to check if a string is palindrome\n",
    "def palindrome(s):\n",
    "    if s==s[::-1]:\n",
    "        return True\n",
    "    else:\n",
    "        return False\n",
    "s=input()\n",
    "palindrome(s)"
   ]
  },
  {
   "cell_type": "code",
   "execution_count": 47,
   "metadata": {},
   "outputs": [
    {
     "name": "stdout",
     "output_type": "stream",
     "text": [
      "2016\n"
     ]
    },
    {
     "data": {
      "text/plain": [
       "True"
      ]
     },
     "execution_count": 47,
     "metadata": {},
     "output_type": "execute_result"
    }
   ],
   "source": [
    "#FUnction to check a given year is leap year\n",
    "\n",
    "def leapyear(year):\n",
    "    if(year%400==0 or (year%100!=0 and year %4==0)):\n",
    "        return True\n",
    "    else:\n",
    "        return False\n",
    "n=int(input())\n",
    "leapyear(n)"
   ]
  },
  {
   "cell_type": "code",
   "execution_count": 54,
   "metadata": {},
   "outputs": [
    {
     "name": "stdout",
     "output_type": "stream",
     "text": [
      "123456\n",
      "6\n"
     ]
    }
   ],
   "source": [
    "#FUnction to count number of digits in a given number\n",
    "s=int(input())\n",
    "def digit(n):\n",
    "    z=len(str(n))\n",
    "    print(z)\n",
    "digit(s)"
   ]
  },
  {
   "cell_type": "code",
   "execution_count": 53,
   "metadata": {},
   "outputs": [
    {
     "name": "stdout",
     "output_type": "stream",
     "text": [
      "54\n"
     ]
    }
   ],
   "source": [
    "#FUnction to identify greatest of 4 numbers\n",
    "a=12\n",
    "b=54\n",
    "c=23\n",
    "d=43\n",
    "def greatest(a,b,c,d):\n",
    "    if(a>b and a>c and a>d):\n",
    "        print(a)\n",
    "    elif(b>c and b>d):\n",
    "        print(b)\n",
    "    elif(c>d):\n",
    "        print(c)\n",
    "    else:\n",
    "        print(d)\n",
    "greatest(a,b,c,d)"
   ]
  },
  {
   "cell_type": "code",
   "execution_count": null,
   "metadata": {},
   "outputs": [],
   "source": []
  },
  {
   "cell_type": "markdown",
   "metadata": {},
   "source": [
    "## Iteration (Loops)\n",
    "- for\n",
    "- while"
   ]
  },
  {
   "cell_type": "code",
   "execution_count": 68,
   "metadata": {},
   "outputs": [
    {
     "name": "stdout",
     "output_type": "stream",
     "text": [
      "Enter the starting range1\n",
      "Enter ending range10\n",
      "1 2 3 4 5 6 7 8 9 10 \n",
      "Enter the starting range2\n",
      "Enter ending range5\n",
      "2 3 4 5 \n"
     ]
    }
   ],
   "source": [
    "# Function to print n natural numbers\n",
    "\n",
    "def naturalnumber(s,e):\n",
    "    \n",
    "    for i in range(s,e+1):\n",
    "        print(i,end=\" \")\n",
    "    print()\n",
    "    return\n",
    "for i in range(2):\n",
    "    s=int(input(\"Enter the starting range\"))\n",
    "    e=int(input(\"Enter ending range\"))\n",
    "    naturalnumber(s,e)\n",
    "    "
   ]
  },
  {
   "cell_type": "code",
   "execution_count": 65,
   "metadata": {},
   "outputs": [
    {
     "name": "stdout",
     "output_type": "stream",
     "text": [
      "Enter the starting range1\n",
      "Enter ending range10\n",
      "1 2 3 4 5 6 7 8 9 10 "
     ]
    }
   ],
   "source": [
    "#Function to print n natural numbers using while loop\n",
    "s=int(input(\"Enter the starting range\"))\n",
    "e=int(input(\"Enter ending range\"))\n",
    "def naturalnumber(s,e):\n",
    "    while s<=e:\n",
    "        print(s,end=\" \")\n",
    "        s=s+1;\n",
    "naturalnumber(s,e)"
   ]
  },
  {
   "cell_type": "code",
   "execution_count": 87,
   "metadata": {},
   "outputs": [
    {
     "name": "stdout",
     "output_type": "stream",
     "text": [
      "1\n",
      "100\n",
      "6 12 18 24 30 36 42 48 54 60 66 72 78 84 90 96 "
     ]
    }
   ],
   "source": [
    "#Function to print all numbers divisible by 6 and not a factor of 100 in a given range(lb,ub)\n",
    "\n",
    "s=int(input())\n",
    "m=int(input())\n",
    "def divisible(s,m):\n",
    "    for i in range(s,m+1):\n",
    "        if(i%6==0 and 100%i!=0):\n",
    "            print(i,end=\" \")\n",
    "    return\n",
    "divisible(s,m)\n"
   ]
  },
  {
   "cell_type": "code",
   "execution_count": 105,
   "metadata": {},
   "outputs": [
    {
     "name": "stdout",
     "output_type": "stream",
     "text": [
      "1\n",
      "3\n",
      "8\n"
     ]
    }
   ],
   "source": [
    "#Function to find average of cubes of all even numbers in a given range(lb,ub)\n",
    "s=int(input())\n",
    "m=int(input())\n",
    "def even(s,m):\n",
    "    cube=0\n",
    "    count=0\n",
    "    for i in range(s,m+1):\n",
    "        if(i%2==0):\n",
    "            cube=cube+(i*i*i)\n",
    "            count=count+1\n",
    "    average=cube//count\n",
    "    print(average)\n",
    "even(s,m)\n",
    "            "
   ]
  },
  {
   "cell_type": "code",
   "execution_count": 83,
   "metadata": {},
   "outputs": [
    {
     "name": "stdout",
     "output_type": "stream",
     "text": [
      "12\n",
      "1 2 3 4 6 12 "
     ]
    }
   ],
   "source": [
    "#Function to print all factors of a given number\n",
    "\n",
    "s=int(input())\n",
    "def divisible(s):\n",
    "    for i in range(1,s+1):\n",
    "        if(s%i==0):\n",
    "            print(i,end=\" \")\n",
    "    return\n",
    "divisible(s)"
   ]
  },
  {
   "cell_type": "code",
   "execution_count": 89,
   "metadata": {},
   "outputs": [
    {
     "name": "stdout",
     "output_type": "stream",
     "text": [
      "5\n"
     ]
    },
    {
     "data": {
      "text/plain": [
       "120"
      ]
     },
     "execution_count": 89,
     "metadata": {},
     "output_type": "execute_result"
    }
   ],
   "source": [
    "#Function to calculate the factorial of a given numbers\n",
    "\n",
    "s=int(input())\n",
    "def factorial(s):\n",
    "    if s==1:\n",
    "        return s\n",
    "    else:\n",
    "        return s*factorial(s-1)\n",
    "    \n",
    "\n",
    "factorial(s)"
   ]
  },
  {
   "cell_type": "code",
   "execution_count": 95,
   "metadata": {},
   "outputs": [
    {
     "name": "stdout",
     "output_type": "stream",
     "text": [
      "9\n",
      "Not prime\n"
     ]
    }
   ],
   "source": [
    "#Function to check if a given number is prime\n",
    "s=int(input())\n",
    "def prime(s):\n",
    "    flag=0\n",
    "    for i in range(1,s+1):\n",
    "        if(s%i==0):\n",
    "            flag=flag+1\n",
    "    if(flag==2):\n",
    "        print(\"Prime\")\n",
    "    else:\n",
    "        print(\"Not prime\")       \n",
    "prime(s)"
   ]
  },
  {
   "cell_type": "code",
   "execution_count": null,
   "metadata": {},
   "outputs": [],
   "source": [
    "#Function to calculate the average of first N Prime numbers\n",
    "\n",
    "def avgnprimes(n):\n",
    "    primecount = 0\n",
    "    sum = 0\n",
    "    while(count<n):\n",
    "        "
   ]
  },
  {
   "cell_type": "code",
   "execution_count": 102,
   "metadata": {},
   "outputs": [
    {
     "name": "stdout",
     "output_type": "stream",
     "text": [
      "7\n",
      "Not perfect\n"
     ]
    }
   ],
   "source": [
    "#Function to generate all perfect numbers in a given range\n",
    "#Perfect number-Sum of all its factors is equal to the number itself\n",
    "#6-1,2,3\n",
    "\n",
    "s=int(input())\n",
    "def perfect(s):\n",
    "    sum=0\n",
    "    for i in range(1,s):\n",
    "        if(s%i==0):\n",
    "            sum=sum+i\n",
    "    if(sum==s):\n",
    "        print(\"perfect number\")\n",
    "    else:\n",
    "        print(\"Not perfect\")\n",
    "perfect(s)"
   ]
  },
  {
   "cell_type": "code",
   "execution_count": null,
   "metadata": {},
   "outputs": [],
   "source": []
  },
  {
   "cell_type": "code",
   "execution_count": null,
   "metadata": {},
   "outputs": [],
   "source": []
  }
 ],
 "metadata": {
  "kernelspec": {
   "display_name": "Python 3",
   "language": "python",
   "name": "python3"
  },
  "language_info": {
   "codemirror_mode": {
    "name": "ipython",
    "version": 3
   },
   "file_extension": ".py",
   "mimetype": "text/x-python",
   "name": "python",
   "nbconvert_exporter": "python",
   "pygments_lexer": "ipython3",
   "version": "3.7.3"
  }
 },
 "nbformat": 4,
 "nbformat_minor": 2
}
